{
 "cells": [
  {
   "cell_type": "markdown",
   "id": "c580dbfe",
   "metadata": {},
   "source": [
    "# Molecular Oncology Almanac workshop\n",
    "This notebook is being used as a demonstration for the [Cancer Genomics Consortium 2023](https://cancergenomics.org/meetings/cgc_annual_meeting_2023.php) Bioinformatics Workshop on Exploring the Clinical Interpretation Resource Landscape. It can be found on GitHub at [github.com/vanallenlab/2023-cgc-moalmanac](https://github.com/vanallenlab/2023-cgc-moalmanac) and you can learn more at [moalmanac.org](moalmanac.org)."
   ]
  },
  {
   "cell_type": "markdown",
   "id": "09f27d69",
   "metadata": {},
   "source": [
    "<img src=\"img/moalmanac-browser.png\" alt=\"Molecular Oncology Almanac browser\" width=\"750\"/>"
   ]
  },
  {
   "cell_type": "markdown",
   "id": "bf68209a",
   "metadata": {},
   "source": [
    "<a id='toc'></a>\n",
    "## Table of contents\n",
    "- <a href=\"#API\">Example usage of Application Program Interface (API)</a>\n",
    "    - <a href=\"#assertions\">Get entire database</a>\n",
    "    - <a href=\"#assertion\">Get specific database record</a>\n",
    "    - <a href=\"#genes\">Get genes cataloged in database</a>\n",
    "    - <a href=\"#therapies\">Get therapies cataloged in database</a>\n",
    "    - <a href=\"#sources\">Get evidence sources cataloged in database</a>\n",
    "- <a href=\"#conclusion\">Conclusion</a>"
   ]
  },
  {
   "cell_type": "markdown",
   "id": "345b89f3",
   "metadata": {},
   "source": [
    "<a id='API'></a>\n",
    "## Application Program Interface (API)\n",
    "While the full database's API specifications are available on [SwaggerHub](https://app.swaggerhub.com/apis-docs/vanallenlab/almanac-browser/0.2#/), the primary endpoints to be used as GET requests are,\n",
    "- `/api/assertions/`, to get the entire database as a JSON\n",
    "- `/api/assertions/{assertion_id}`, to get a specific database record\n",
    "- `/api/genes`, to list all genes contained within the database\n",
    "- `/api/therapies`, to list all therapies within the database\n",
    "- `/api/sources`, to list all sources cited within the database"
   ]
  },
  {
   "cell_type": "code",
   "execution_count": 1,
   "id": "b90a7117",
   "metadata": {},
   "outputs": [],
   "source": [
    "! cd /Users/brendan/Github/moalmanac/moalmanac"
   ]
  },
  {
   "cell_type": "code",
   "execution_count": 2,
   "id": "5fc1bb51",
   "metadata": {},
   "outputs": [],
   "source": [
    "import json\n",
    "import requests\n",
    "\n",
    "def indent_dictionary(dictionary):\n",
    "    return json.dumps(dictionary, indent=4)"
   ]
  },
  {
   "cell_type": "markdown",
   "id": "f9dc9780",
   "metadata": {},
   "source": [
    "<a id='assertions'></a>\n",
    "### Entire database\n",
    "The `/api/assertions` endpoint may be used to get the entire database as a JSON object."
   ]
  },
  {
   "cell_type": "code",
   "execution_count": 3,
   "id": "741f0897",
   "metadata": {},
   "outputs": [
    {
     "name": "stdout",
     "output_type": "stream",
     "text": [
      "Response code: 200\n",
      "\n",
      "Molecular Oncology Almanac contains 894 records in its 2023 July 6th database content release.\n",
      "\n"
     ]
    }
   ],
   "source": [
    "request = f\"https://moalmanac.org/api/assertions\"\n",
    "response = requests.get(request)\n",
    "print(f\"Response code: {response.status_code}\")\n",
    "print('')\n",
    "print(f\"Molecular Oncology Almanac contains {len(response.json())} records in its 2023 July 6th database content release.\")\n",
    "print('')"
   ]
  },
  {
   "cell_type": "markdown",
   "id": "d56f43d0",
   "metadata": {},
   "source": [
    "<a id='assertion'></a>\n",
    "### Specific database record\n",
    "Specific database records can be obtained by querying their specific id in the database using the `/api/assertions/{assertion_id}` endpoint. Records are primarily made up of three areas: the genomic alteration(s), the clinical context and implication, and citation. Full details can be read through our [Standard Operating Procedure](https://github.com/vanallenlab/moalmanac-db/blob/main/docs/sop.md) for curation."
   ]
  },
  {
   "cell_type": "code",
   "execution_count": 4,
   "id": "a9ed2a69",
   "metadata": {},
   "outputs": [
    {
     "name": "stdout",
     "output_type": "stream",
     "text": [
      "Response code: 200\n",
      "\n"
     ]
    }
   ],
   "source": [
    "record_id = 628\n",
    "request = f\"https://moalmanac.org/api/assertions/{record_id}\"\n",
    "response = requests.get(request)\n",
    "print(f\"Response code: {response.status_code}\")\n",
    "print('')\n",
    "record = response.json()"
   ]
  },
  {
   "cell_type": "code",
   "execution_count": 5,
   "id": "6fcf39e9",
   "metadata": {},
   "outputs": [
    {
     "data": {
      "text/plain": [
       "{'assertion_id': 628,\n",
       " 'context': 'Advanced, treated with three or more prior lines of chemotherapy',\n",
       " 'created_on': '08/11/23',\n",
       " 'description': 'The U.S. Food and Drug Administration (FDA) granted approval for niraparib for the treatment of adult patients with advanced ovarian, fallopian tube, or primary peritoneal cancer who have been treated with three or more prior chemotherapy regimens and whose cancer is associated with homologous recombination deficiency (HRD) positive status defined by either a deleterious or suspected deleterious BRCA mutation or genominc instability and who have progressed more than six months after response to the last platinum-based chemotherapy.',\n",
       " 'disease': 'Ovarian Epithelial Tumor',\n",
       " 'favorable_prognosis': '',\n",
       " 'features': [{'attributes': [{'alternate_allele': None,\n",
       "     'cdna_change': None,\n",
       "     'chromosome': None,\n",
       "     'end_position': None,\n",
       "     'exon': None,\n",
       "     'feature_type': 'germline_variant',\n",
       "     'gene': 'BRCA2',\n",
       "     'pathogenic': '1',\n",
       "     'protein_change': None,\n",
       "     'reference_allele': None,\n",
       "     'rsid': None,\n",
       "     'start_position': None,\n",
       "     'variant_annotation': None}],\n",
       "   'feature_id': 628,\n",
       "   'feature_type': 'germline_variant'}],\n",
       " 'last_updated': '2020-10-15',\n",
       " 'oncotree_code': 'OVT',\n",
       " 'oncotree_term': 'Ovarian Epithelial Tumor',\n",
       " 'predictive_implication': 'FDA-Approved',\n",
       " 'sources': [{'citation': 'GlaxoSmithKline. Zejula (niraparib) [package insert]. U.S. Food and Drug Administration website. www.accessdata.fda.gov/drugsatfda_docs/label/2020/208447s015s017lbledt.pdf. Revised April 2020. Accessed October 15, 2020.',\n",
       "   'doi': '',\n",
       "   'nct': '',\n",
       "   'pmid': '',\n",
       "   'source_id': 85,\n",
       "   'source_type': 'FDA',\n",
       "   'url': 'https://www.accessdata.fda.gov/drugsatfda_docs/label/2020/208447s015s017lbledt.pdf'}],\n",
       " 'submitted_by': 'breardon@broadinstitute.org',\n",
       " 'therapy_name': 'Niraparib',\n",
       " 'therapy_resistance': '',\n",
       " 'therapy_sensitivity': 1,\n",
       " 'therapy_strategy': 'PARP inhibition',\n",
       " 'therapy_type': 'Targeted therapy',\n",
       " 'validated': True}"
      ]
     },
     "execution_count": 5,
     "metadata": {},
     "output_type": "execute_result"
    }
   ],
   "source": [
    "record"
   ]
  },
  {
   "cell_type": "code",
   "execution_count": 6,
   "id": "65694d59",
   "metadata": {},
   "outputs": [
    {
     "name": "stdout",
     "output_type": "stream",
     "text": [
      "{\n",
      "    \"associated_evidence\": \"FDA-Approved\",\n",
      "    \"description\": \"The U.S. Food and Drug Administration (FDA) granted approval for niraparib for the treatment of adult patients with advanced ovarian, fallopian tube, or primary peritoneal cancer who have been treated with three or more prior chemotherapy regimens and whose cancer is associated with homologous recombination deficiency (HRD) positive status defined by either a deleterious or suspected deleterious BRCA mutation or genominc instability and who have progressed more than six months after response to the last platinum-based chemotherapy.\",\n",
      "    \"citation\": \"GlaxoSmithKline. Zejula (niraparib) [package insert]. U.S. Food and Drug Administration website. www.accessdata.fda.gov/drugsatfda_docs/label/2020/208447s015s017lbledt.pdf. Revised April 2020. Accessed October 15, 2020.\",\n",
      "    \"url\": \"https://www.accessdata.fda.gov/drugsatfda_docs/label/2020/208447s015s017lbledt.pdf\",\n",
      "    \"last_updated\": \"2020-10-15\"\n",
      "}\n"
     ]
    }
   ],
   "source": [
    "evidence = {\n",
    "    'associated_evidence': record['predictive_implication'],\n",
    "    'description': record['description'],\n",
    "    'citation': record['sources'][0]['citation'],\n",
    "    'url': record['sources'][0]['url'],\n",
    "    'last_updated': record['last_updated']\n",
    "}\n",
    "\n",
    "print(indent_dictionary(evidence))"
   ]
  },
  {
   "cell_type": "code",
   "execution_count": 7,
   "id": "1c21eb24",
   "metadata": {},
   "outputs": [
    {
     "name": "stdout",
     "output_type": "stream",
     "text": [
      "{\n",
      "    \"feature_type\": \"germline_variant\",\n",
      "    \"gene\": \"BRCA2\",\n",
      "    \"pathogenic\": true\n",
      "}\n"
     ]
    }
   ],
   "source": [
    "genomics = {\n",
    "    'feature_type': record['features'][0]['feature_type'],\n",
    "    'gene': record['features'][0]['attributes'][0]['gene'],\n",
    "    'pathogenic': bool(record['features'][0]['attributes'][0]['pathogenic'])\n",
    "}\n",
    "\n",
    "print(indent_dictionary(genomics))"
   ]
  },
  {
   "cell_type": "code",
   "execution_count": 8,
   "id": "33764b6d",
   "metadata": {},
   "outputs": [
    {
     "name": "stdout",
     "output_type": "stream",
     "text": [
      "{\n",
      "    \"disease\": \"Ovarian Epithelial Tumor\",\n",
      "    \"oncotree_term\": \"Ovarian Epithelial Tumor\",\n",
      "    \"oncotree_code\": \"OVT\",\n",
      "    \"clinical context\": \"Advanced, treated with three or more prior lines of chemotherapy\",\n",
      "    \"therapy_name\": \"Niraparib\",\n",
      "    \"therapy_strategy\": \"PARP inhibition\",\n",
      "    \"therapy_type\": \"Targeted therapy\",\n",
      "    \"therapy_sensitivity\": 1,\n",
      "    \"therapy_resistance\": \"\",\n",
      "    \"favorable_prognosis\": \"\"\n",
      "}\n"
     ]
    }
   ],
   "source": [
    "clinical_context_and_implication = {\n",
    "    'disease': record['disease'],\n",
    "    'oncotree_term': record['oncotree_term'],\n",
    "    'oncotree_code': record['oncotree_code'],\n",
    "    'clinical context': record['context'],\n",
    "    'therapy_name': record['therapy_name'],\n",
    "    'therapy_strategy': record['therapy_strategy'],\n",
    "    'therapy_type': record['therapy_type'],\n",
    "    'therapy_sensitivity': record['therapy_sensitivity'],\n",
    "    'therapy_resistance': record['therapy_resistance'],\n",
    "    'favorable_prognosis': record['favorable_prognosis']\n",
    "}\n",
    "\n",
    "print(indent_dictionary(clinical_context_and_implication))"
   ]
  },
  {
   "cell_type": "markdown",
   "id": "523195ed",
   "metadata": {},
   "source": [
    "<a href=\"#toc\">Return to Table of Contents</a>"
   ]
  },
  {
   "cell_type": "markdown",
   "id": "753956cb",
   "metadata": {},
   "source": [
    "<a id='genes'></a>\n",
    "### All genes within database\n",
    "All genes contained within the database can be queried using the `/api/genes` endpoint, and there are currently 149 genes cataloged in the database as of this presentation."
   ]
  },
  {
   "cell_type": "code",
   "execution_count": 9,
   "id": "9ce39527",
   "metadata": {},
   "outputs": [
    {
     "name": "stdout",
     "output_type": "stream",
     "text": [
      "Response code: 200\n",
      "\n",
      "Molecular Oncology Almanac contains 149 genes in its 2023 July 6th database content release.\n",
      "\n",
      "['ABL1', 'AKT1', 'AKT2', 'AKT3', 'ALK', 'AR', 'ARAF', 'ARID1A', 'ASXL1', 'ATM']\n"
     ]
    }
   ],
   "source": [
    "request = f\"https://moalmanac.org/api/genes\"\n",
    "response = requests.get(request)\n",
    "print(f\"Response code: {response.status_code}\")\n",
    "print('')\n",
    "print(f\"Molecular Oncology Almanac contains {len(response.json())} genes in its 2023 July 6th database content release.\")\n",
    "print('')\n",
    "\n",
    "print(response.json()[:10])"
   ]
  },
  {
   "cell_type": "markdown",
   "id": "2d1a9585",
   "metadata": {},
   "source": [
    "<a id='therapies'></a>\n",
    "### All therapies within the database"
   ]
  },
  {
   "cell_type": "markdown",
   "id": "b449c684",
   "metadata": {},
   "source": [
    "Likewise, all therapies and sources can be specifically obtained using the endpoints `/api/therapies` and `/api/sources`, respectively. "
   ]
  },
  {
   "cell_type": "code",
   "execution_count": 10,
   "id": "a68fbbf5",
   "metadata": {},
   "outputs": [
    {
     "name": "stdout",
     "output_type": "stream",
     "text": [
      "Response code: 200\n",
      "\n",
      "Molecular Oncology Almanac contains 155 therapies in its 2023 July 6th database content release.\n",
      "\n",
      "['5-Fluorouracil', 'AMG 510', 'AZD3759', 'AZD8186', 'Abiraterone', 'Abiraterone + Prednisone + Olaparib', 'Adagrasib', 'Ado-Trastuzumab Emtansine', 'Afatinib', 'Alectinib']\n"
     ]
    }
   ],
   "source": [
    "request = f\"https://moalmanac.org/api/therapies\"\n",
    "response = requests.get(request)\n",
    "print(f\"Response code: {response.status_code}\")\n",
    "print('')\n",
    "print(f\"Molecular Oncology Almanac contains {len(response.json())} therapies in its 2023 July 6th database content release.\")\n",
    "print('')\n",
    "\n",
    "print(response.json()[:10])"
   ]
  },
  {
   "cell_type": "markdown",
   "id": "0b6f20d0",
   "metadata": {},
   "source": [
    "<a id='sources'></a>\n",
    "### All sources cited within the database"
   ]
  },
  {
   "cell_type": "code",
   "execution_count": 11,
   "id": "4df31e37",
   "metadata": {},
   "outputs": [
    {
     "name": "stdout",
     "output_type": "stream",
     "text": [
      "Response code: 200\n",
      "\n",
      "Molecular Oncology Almanac contains 276 sources in its 2023 July 6th database content release.\n",
      "\n",
      "{\n",
      "    \"citation\": \"Pfizer Inc. Bosulif (bosutinib) [package insert]. U.S. Food and Drug Administration website. https://www.accessdata.fda.gov/drugsatfda_docs/label/2021/203341s020lbl.pdf. Revised May 2021. Accessed September 16, 2021.\",\n",
      "    \"doi\": \"\",\n",
      "    \"nct\": \"\",\n",
      "    \"pmid\": \"\",\n",
      "    \"source_id\": 1,\n",
      "    \"source_type\": \"FDA\",\n",
      "    \"url\": \"https://www.accessdata.fda.gov/drugsatfda_docs/label/2021/203341s020lbl.pdf\"\n",
      "}\n"
     ]
    }
   ],
   "source": [
    "request = f\"https://moalmanac.org/api/sources\"\n",
    "response = requests.get(request)\n",
    "print(f\"Response code: {response.status_code}\")\n",
    "print('')\n",
    "print(f\"Molecular Oncology Almanac contains {len(response.json())} sources in its 2023 July 6th database content release.\")\n",
    "print('')\n",
    "print(indent_dictionary(response.json()[0]))"
   ]
  },
  {
   "cell_type": "markdown",
   "id": "c15fa7d1",
   "metadata": {},
   "source": [
    "<a href=\"#toc\">Return to Table of Contents</a>"
   ]
  },
  {
   "cell_type": "markdown",
   "id": "b6695168",
   "metadata": {},
   "source": [
    "<a id='conclusion'></a>\n",
    "## In conclusion\n",
    "\n",
    "**Thank you very much for inviting us to give this workshop today, please reach out with any additional questions or comments!**\n",
    "\n",
    "- Email: moalmanac@ds.dfci.harvard.edu\n",
    "- Twitter: [@moalmanac](https://twitter.com/moalmanac), [@vanallenlab](https://twitter.com/vanallenlab)\n",
    "\n",
    "Slides and code from this workshop are available on GitHub at [https://github.com/vanallenlab/2023-cgc-moalmanac](https://github.com/vanallenlab/2023-cgc-moalmanac).\n",
    "\n",
    "<img src=\"img/conclusion-slide.png\" alt=\"Thank you!\" width=\"750\"/>\n",
    "\n",
    "Molecular Oncology Almanac (MOAlmanac) is a clinical interpretation algorithm paired with an underlying knowledge base for precision oncology. The primary objective of MOAlmanac is to identify and associate molecular alterations with therapeutic sensitivity and resistance as well as disease prognosis. This is done for “first-order” genomic alterations -- individual events such as somatic variants, copy number alterations, fusions, and germline -- as well as “second-order” events -- those that are not associated with one single mutation, and may be descriptive of global processes in the tumor such as tumor mutational burden, microsatellite instability, mutational signatures, and whole-genome doubling. In addition to clinical insights, MOAlmanac will annotate and evaluate first-order events based on their presence in numerous other well established datasources as well as highlight connections between them. This method currently geared towards hg19/b37 reference files and whole-exome or targeted sequencing data.\n",
    "\n",
    "There are several other resources within [the Molecular Oncology Almanac ecosystem](https://github.com/topics/molecular-oncology-almanac): \n",
    "- Molecular Oncology Almanac, the clinical interpretation algorithm for precision cancer medicine [[GitHub](https://github.com/vanallenlab/moalmanac)].\n",
    "- [Molecular Oncology Almanac Browser](https://moalmanac.org), a website to browse our underlying knowledge base [[GitHub](https://github.com/vanallenlab/moalmanac-browser)].\n",
    "- [Molecular Oncology Almanac Connector](https://chrome.google.com/webstore/detail/molecular-oncology-almana/jliaipolchffpaccagodphgjpfdpcbcm?hl=en), a Google Chrome extension to quickly suggest literature for cataloging [[GitHub](https://github.com/vanallenlab/moalmanac-extension)].\n",
    "- Molecular Oncology Almanac Database, the content and release notes of our underlying knowledge base [[GitHub](https://github.com/vanallenlab/moalmanac-db)].\n",
    "- [Molecular Oncology Almanac Portal](https://portal.moalmanac.org), a website to launch this method on the Broad Institute's Google Cloud platform called Terra [[GitHub](https://github.com/vanallenlab/moalmanac-portal)].\n",
    "\n",
    "This method is also available on [Docker](https://hub.docker.com/repository/docker/vanallenlab/moalmanac) and [Terra](https://portal.firecloud.org/#methods/vanallenlab/moalmanac/). We have also released [code on GitHub to help facilitate analyses of multiple samples that have been interpreted using the Molecular Oncology Almanac](https://github.com/vanallenlab/moalmanac-cohort). \n",
    "\n",
    "If you use this method, please cite our publication:\n",
    "> [Reardon, B., Moore, N.D., Moore, N.S., *et al*. Integrating molecular profiles into clinical frameworks through the Molecular Oncology Almanac to prospectively guide precision oncology. *Nat Cancer* (2021). https://doi.org/10.1038/s43018-021-00243-3](https://www.nature.com/articles/s43018-021-00243-3)\n"
   ]
  },
  {
   "cell_type": "code",
   "execution_count": null,
   "id": "0c135e7a",
   "metadata": {},
   "outputs": [],
   "source": []
  }
 ],
 "metadata": {
  "kernelspec": {
   "display_name": "2023-cgc-workshop-moalmanac",
   "language": "python",
   "name": "2023-cgc-workshop-moalmanac"
  },
  "language_info": {
   "codemirror_mode": {
    "name": "ipython",
    "version": 3
   },
   "file_extension": ".py",
   "mimetype": "text/x-python",
   "name": "python",
   "nbconvert_exporter": "python",
   "pygments_lexer": "ipython3",
   "version": "3.11.4"
  }
 },
 "nbformat": 4,
 "nbformat_minor": 5
}
